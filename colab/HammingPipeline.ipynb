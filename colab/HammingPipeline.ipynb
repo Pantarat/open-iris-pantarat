{
 "cells": [
  {
   "cell_type": "code",
   "execution_count": 15,
   "id": "c2434333",
   "metadata": {},
   "outputs": [
    {
     "name": "stdout",
     "output_type": "stream",
     "text": [
      "1.8.2\n"
     ]
    }
   ],
   "source": [
    "import iris\n",
    "import cv2\n",
    "import matplotlib.pyplot as plt\n",
    "\n",
    "print(iris.__version__)\n",
    "\n",
    "\n",
    "subject1_first_image = cv2.imread(\"./example_orb_image_1.png\", cv2.IMREAD_GRAYSCALE)\n",
    "subject1_second_image = cv2.imread(\"./example_orb_image_2.png\", cv2.IMREAD_GRAYSCALE)\n",
    "subject2_first_image = cv2.imread(\"./example_orb_image_3.png\", cv2.IMREAD_GRAYSCALE)\n",
    "iris_pipeline = iris.IRISPipeline()\n",
    "\n",
    "output_1 = iris_pipeline(subject1_first_image, eye_side=\"left\")\n",
    "subject1_first_code = output_1['iris_template']\n",
    "\n",
    "output_2 = iris_pipeline(subject1_second_image, eye_side=\"left\")\n",
    "subject1_second_code = output_2['iris_template']\n",
    "\n",
    "output_3 = iris_pipeline(subject2_first_image, eye_side=\"left\")\n",
    "subject2_first_code = output_3['iris_template']"
   ]
  },
  {
   "cell_type": "code",
   "execution_count": 16,
   "id": "14d7c16b",
   "metadata": {},
   "outputs": [
    {
     "name": "stdout",
     "output_type": "stream",
     "text": [
      "0.22724899947798852\n",
      "0.4514372433494019\n",
      "0.4499949844518006\n",
      "Predictions: [1, 0, 0]\n",
      "Ground truth: [1, 0, 0]\n",
      "Confusion Matrix:\n",
      " [[2 0]\n",
      " [0 1]]\n"
     ]
    },
    {
     "data": {
      "image/png": "[encoded data removed]",
      "text/plain": [
       "<Figure size 640x480 with 2 Axes>"
      ]
     },
     "metadata": {},
     "output_type": "display_data"
    }
   ],
   "source": [
    "import numpy as np\n",
    "from sklearn.metrics import confusion_matrix, ConfusionMatrixDisplay\n",
    "import matplotlib.pyplot as plt\n",
    "\n",
    "# Your threshold (you can tune this later)\n",
    "threshold = 0.38\n",
    "\n",
    "# All subject templates and masks\n",
    "templates = [\n",
    "    np.array(subject1_first_code.iris_codes),\n",
    "    np.array(subject1_second_code.iris_codes),\n",
    "    np.array(subject2_first_code.iris_codes)\n",
    "]\n",
    "\n",
    "masks = [\n",
    "    np.array(subject1_first_code.mask_codes),\n",
    "    np.array(subject1_second_code.mask_codes),\n",
    "    np.array(subject2_first_code.mask_codes)\n",
    "]\n",
    "\n",
    "# Ground truth for the 3 possible pairs\n",
    "# Compare subject1 vs subject2 → same person → 1\n",
    "# Compare subject1 vs subject3 → different → 0\n",
    "# Compare subject2 vs subject3 → different → 0\n",
    "ground_truth = [1, 0, 0]\n",
    "predicted = []\n",
    "\n",
    "# All unique index pairs (no self-comparison)\n",
    "index_pairs = [(0,1), (0,2), (1,2)]\n",
    "\n",
    "for i, j in index_pairs:\n",
    "    template1 = templates[i]\n",
    "    mask1 = masks[i]\n",
    "    template2 = templates[j]\n",
    "    mask2 = masks[j]\n",
    "\n",
    "    min_distance = 1.0\n",
    "    best_shift = 0\n",
    "\n",
    "    for shift in range(-7, 8):\n",
    "        t2_shifted = np.roll(template2, shift=shift, axis=2)\n",
    "        m2_shifted = np.roll(mask2, shift=shift, axis=2)\n",
    "\n",
    "        xor_real = template1[..., 0] ^ t2_shifted[..., 0]\n",
    "        xor_imag = template1[..., 1] ^ t2_shifted[..., 1]\n",
    "\n",
    "        valid_mask_real = mask1[..., 0] & m2_shifted[..., 0]\n",
    "        valid_mask_imag = mask1[..., 1] & m2_shifted[..., 1]\n",
    "\n",
    "        masked_xor_real = xor_real & valid_mask_real\n",
    "        masked_xor_imag = xor_imag & valid_mask_imag\n",
    "\n",
    "        num_diff = np.sum(masked_xor_real) + np.sum(masked_xor_imag)\n",
    "        num_valid = np.sum(valid_mask_real) + np.sum(valid_mask_imag)\n",
    "\n",
    "        if num_valid == 0:\n",
    "            distance = 1.0\n",
    "        else:\n",
    "            distance = num_diff / num_valid\n",
    "\n",
    "        if distance < min_distance:\n",
    "            min_distance = distance\n",
    "            best_shift = -shift\n",
    "            \n",
    "    print(min_distance)\n",
    "\n",
    "    # Decide based on threshold\n",
    "    decision = 1 if min_distance < threshold else 0\n",
    "    predicted.append(decision)\n",
    "\n",
    "# Show results\n",
    "print(\"Predictions:\", predicted)\n",
    "print(\"Ground truth:\", ground_truth)\n",
    "\n",
    "# Confusion matrix\n",
    "cm = confusion_matrix(ground_truth, predicted)\n",
    "print(\"Confusion Matrix:\\n\", cm)\n",
    "\n",
    "# Optional: visualize\n",
    "disp = ConfusionMatrixDisplay(confusion_matrix=cm, display_labels=[\"Reject\", \"Accept\"])\n",
    "disp.plot(cmap=plt.cm.Blues)\n",
    "plt.title(f\"Threshold = {threshold}\")\n",
    "plt.show()\n"
   ]
  }
 ],
 "metadata": {
  "kernelspec": {
   "display_name": "iris_dev",
   "language": "python",
   "name": "python3"
  },
  "language_info": {
   "codemirror_mode": {
    "name": "ipython",
    "version": 3
   },
   "file_extension": ".py",
   "mimetype": "text/x-python",
   "name": "python",
   "nbconvert_exporter": "python",
   "pygments_lexer": "ipython3",
   "version": "3.9.0"
  }
 },
 "nbformat": 4,
 "nbformat_minor": 5
}
